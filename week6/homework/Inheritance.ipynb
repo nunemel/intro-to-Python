{
 "cells": [
  {
   "cell_type": "code",
   "execution_count": 18,
   "metadata": {},
   "outputs": [],
   "source": [
    "class Calculation:\n",
    "    def __init__(self, x, y):\n",
    "        self.x = x\n",
    "        self.y = y\n",
    "    \n",
    "    def addition(self):\n",
    "        print(self.x + self.y)\n",
    "        \n",
    "    def subtraction(self):\n",
    "        print(self.x - self.y)    \n",
    "        \n",
    "class MyCalculation(Calculation):\n",
    "    def __init__(self, x, y):\n",
    "        super().__init__(x, y)\n",
    "        \n",
    "    def multiplication(self):\n",
    "        print(self.x * self.y) \n",
    "       \n",
    "    def division(self):   \n",
    "        try:\n",
    "            print(self.x/self.y)\n",
    "        except ZeroDivisionError as zd:\n",
    "            print(zd)\n",
    "             "
   ]
  },
  {
   "cell_type": "code",
   "execution_count": 19,
   "metadata": {},
   "outputs": [
    {
     "name": "stdout",
     "output_type": "stream",
     "text": [
      "3\n",
      "3\n",
      "0\n",
      "division by zero\n"
     ]
    }
   ],
   "source": [
    " my_calculation = MyCalculation(3, 0) \n",
    " my_calculation.addition()\n",
    " my_calculation.subtraction()\n",
    " my_calculation.multiplication()\n",
    " my_calculation.division()  "
   ]
  },
  {
   "cell_type": "code",
   "execution_count": 29,
   "metadata": {},
   "outputs": [
    {
     "name": "stdout",
     "output_type": "stream",
     "text": [
      "The current date is: 03.12.2019\n",
      "The current time is: 07:31 PM\n"
     ]
    }
   ],
   "source": [
    "from datetime import datetime as dt\n",
    "\n",
    "class My_Time:\n",
    "    def __init__(self, time):\n",
    "        self.time = time\n",
    "        \n",
    "    def printTime(self):\n",
    "        print('The current time is:', self.time)\n",
    "        \n",
    "class My_Date:\n",
    "    def __init__(self, date):\n",
    "        self.date = date\n",
    "        \n",
    "    def printDate(self):\n",
    "        print('The current date is:', self.date)\n",
    "        \n",
    "class Date_Time(My_Date, My_Time):\n",
    "    \n",
    "    def __init__(self, date, time):\n",
    "         My_Date.__init__(self, date)\n",
    "         My_Time.__init__(self, time)\n",
    " \n",
    "current_time = dt.now().time()\n",
    "current_date = dt.now()\n",
    "date = current_date.strftime('%d.%m.%Y')\n",
    "time = current_time.strftime('%I:%M %p')\n",
    "\n",
    "date_time = Date_Time(date, time)  \n",
    "date_time.printDate()\n",
    "date_time.printTime()"
   ]
  },
  {
   "cell_type": "code",
   "execution_count": null,
   "metadata": {},
   "outputs": [],
   "source": []
  }
 ],
 "metadata": {
  "kernelspec": {
   "display_name": "Python 3",
   "language": "python",
   "name": "python3"
  },
  "language_info": {
   "codemirror_mode": {
    "name": "ipython",
    "version": 3
   },
   "file_extension": ".py",
   "mimetype": "text/x-python",
   "name": "python",
   "nbconvert_exporter": "python",
   "pygments_lexer": "ipython3",
   "version": "3.7.4"
  }
 },
 "nbformat": 4,
 "nbformat_minor": 2
}
