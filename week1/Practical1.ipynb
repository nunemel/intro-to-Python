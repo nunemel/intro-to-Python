{
 "cells": [
  {
   "cell_type": "code",
   "execution_count": 20,
   "metadata": {},
   "outputs": [],
   "source": [
    "course = \"Intro to Python\""
   ]
  },
  {
   "cell_type": "code",
   "execution_count": 2,
   "metadata": {},
   "outputs": [],
   "source": [
    "student = \"Nune Melikyan\""
   ]
  },
  {
   "cell_type": "code",
   "execution_count": 3,
   "metadata": {},
   "outputs": [],
   "source": [
    "nickname = \"nunemel\""
   ]
  },
  {
   "cell_type": "code",
   "execution_count": 4,
   "metadata": {},
   "outputs": [],
   "source": [
    "grade = \"100\""
   ]
  },
  {
   "cell_type": "code",
   "execution_count": 5,
   "metadata": {},
   "outputs": [],
   "source": [
    "python_expert = False"
   ]
  },
  {
   "cell_type": "code",
   "execution_count": 21,
   "metadata": {},
   "outputs": [
    {
     "name": "stdout",
     "output_type": "stream",
     "text": [
      "course: Intro to Python\n",
      "student: Nune Melikyan\n",
      "nickname: nunemel\n",
      "grade: 100\n",
      "python_expert: False\n"
     ]
    }
   ],
   "source": [
    "print(\"course: \" + course + \"\\n\"\n",
    "      \"student: \" + student + \"\\n\"\n",
    "      \"nickname: \"  + nickname + \"\\n\"\n",
    "      \"grade: \" + grade + \"\\n\"\n",
    "      \"python_expert: %s\" %python_expert)"
   ]
  },
  {
   "cell_type": "code",
   "execution_count": 22,
   "metadata": {},
   "outputs": [
    {
     "name": "stdout",
     "output_type": "stream",
     "text": [
      "course: Intro to Python\n",
      "student: Nune Melikyan\n",
      "nickname: nunemel\n",
      "grade: 100\n",
      "python_expert: False\n"
     ]
    }
   ],
   "source": [
    "run Problem2.py"
   ]
  },
  {
   "cell_type": "code",
   "execution_count": 32,
   "metadata": {},
   "outputs": [
    {
     "name": "stdout",
     "output_type": "stream",
     "text": [
      "The hypotenuse of the triangle ABC:  5\n"
     ]
    }
   ],
   "source": [
    "import math\n",
    "AB = 3; AC = 4; BC = 0\n",
    "BC = int(math.sqrt(AB**2 + AC**2))\n",
    "print(\"The hypotenuse of the triangle ABC: \",BC)"
   ]
  },
  {
   "cell_type": "code",
   "execution_count": null,
   "metadata": {},
   "outputs": [],
   "source": []
  }
 ],
 "metadata": {
  "kernelspec": {
   "display_name": "Python 3",
   "language": "python",
   "name": "python3"
  },
  "language_info": {
   "codemirror_mode": {
    "name": "ipython",
    "version": 3
   },
   "file_extension": ".py",
   "mimetype": "text/x-python",
   "name": "python",
   "nbconvert_exporter": "python",
   "pygments_lexer": "ipython3",
   "version": "3.7.4"
  }
 },
 "nbformat": 4,
 "nbformat_minor": 2
}
