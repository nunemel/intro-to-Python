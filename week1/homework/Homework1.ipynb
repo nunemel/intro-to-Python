{
 "cells": [
  {
   "cell_type": "code",
   "execution_count": 20,
   "metadata": {},
   "outputs": [
    {
     "name": "stdout",
     "output_type": "stream",
     "text": [
      "False\n",
      "True\n",
      "True\n",
      "False\n",
      "flour - 175 g\n",
      "butter - 175 g\n",
      "sugar - 100 g\n",
      "eggs - 2\n",
      "cocoa powder - 1 ts\n",
      "baking powder - 0.5 ts\n"
     ]
    }
   ],
   "source": [
    "CONST_STR_MARGARINE = \"margarine\"\n",
    "CONST_STR_EGGS = \"eggs\"\n",
    "CONST_STR_APPLES = \"apples\"\n",
    "CONST_STR_BUTTER  = \"butter\"\n",
    "CONST_STR_FLOUR = \"flour\"\n",
    "CONST_STR_SUGAR = \"sugar\"\n",
    "CONST_STR_COCOA_POWDER = \"cocoa powder\"\n",
    "CONST_STR_BAKING_POWDER = \"baking powder\"\n",
    "difficulty = 3\n",
    "project = \"cake\"\n",
    "\n",
    "flour = 175 \n",
    "butter = 175 \n",
    "sugar = 100 \n",
    "eggs = 2 \n",
    "cocoa_powder = 1 \n",
    "baking_powder = 0.5\n",
    "\n",
    "\n",
    "ingredients = {CONST_STR_FLOUR : flour, \n",
    "               CONST_STR_BUTTER : butter, \n",
    "               CONST_STR_SUGAR: sugar, \n",
    "               CONST_STR_EGGS: eggs, \n",
    "               CONST_STR_COCOA_POWDER: cocoa_powder, \n",
    "               CONST_STR_BAKING_POWDER: baking_powder}\n",
    "\n",
    "print(CONST_STR_APPLES in ingredients) \n",
    "print(CONST_STR_BUTTER in ingredients)\n",
    "print((CONST_STR_EGGS in ingredients) or (CONST_STR_MARGARINE in ingredients))\n",
    "print((CONST_STR_EGGS in ingredients) and (CONST_STR_MARGARINE in ingredients))\n",
    "\n",
    "sep = \"-\"\n",
    "tableSpoon = \"ts\"\n",
    "gram = \"g\"\n",
    "for x,y in ingredients.items():\n",
    "    if ((x == CONST_STR_COCOA_POWDER) or (x == CONST_STR_BAKING_POWDER)):\n",
    "        print(x, sep, y, tableSpoon)\n",
    "    elif(x == CONST_STR_EGGS):\n",
    "        print(x, sep, y)\n",
    "    else:\n",
    "        print(x, sep, y, gram)"
   ]
  },
  {
   "cell_type": "code",
   "execution_count": null,
   "metadata": {},
   "outputs": [],
   "source": []
  },
  {
   "cell_type": "code",
   "execution_count": null,
   "metadata": {},
   "outputs": [],
   "source": []
  }
 ],
 "metadata": {
  "kernelspec": {
   "display_name": "Python 3",
   "language": "python",
   "name": "python3"
  },
  "language_info": {
   "codemirror_mode": {
    "name": "ipython",
    "version": 3
   },
   "file_extension": ".py",
   "mimetype": "text/x-python",
   "name": "python",
   "nbconvert_exporter": "python",
   "pygments_lexer": "ipython3",
   "version": "3.7.4"
  }
 },
 "nbformat": 4,
 "nbformat_minor": 2
}
