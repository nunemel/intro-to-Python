{
 "cells": [
  {
   "cell_type": "code",
   "execution_count": 25,
   "metadata": {},
   "outputs": [
    {
     "name": "stdout",
     "output_type": "stream",
     "text": [
      "Ingredients doesn't contain apples\n",
      "Ingredients contain butter\n",
      "Ingredients contain either eggs or margarine\n",
      "Ingredients doesn't contain both eggs and margarine\n",
      "Flour - 175 g\n",
      "Butter - 175 g\n",
      "Sugar - 100 g\n",
      "Eggs - 2\n",
      "Cocoa powder - 1 ts\n",
      "Baking powder - 0.5 ts\n"
     ]
    }
   ],
   "source": [
    "#creates constant variables for ingredients\n",
    "CONST_STR_PROJECT = \"cake\"\n",
    "CONST_INT_DIFFICULTY = 3\n",
    "CONST_STR_MARGARINE = \"margarine\"\n",
    "CONST_STR_EGGS = \"eggs\"\n",
    "CONST_STR_APPLES = \"apples\"\n",
    "CONST_STR_BUTTER  = \"butter\"\n",
    "CONST_STR_FLOUR = \"flour\"\n",
    "CONST_STR_SUGAR = \"sugar\"\n",
    "CONST_STR_COCOA_POWDER = \"cocoa powder\"\n",
    "CONST_STR_BAKING_POWDER = \"baking powder\"\n",
    "\n",
    "flour = 175 \n",
    "butter = 175 \n",
    "sugar = 100 \n",
    "eggs = 2 \n",
    "cocoa_powder = 1 \n",
    "baking_powder = 0.5\n",
    "\n",
    "#creates dictionary for our ingredients\n",
    "ingredients = {CONST_STR_FLOUR : flour, \n",
    "               CONST_STR_BUTTER : butter, \n",
    "               CONST_STR_SUGAR: sugar, \n",
    "               CONST_STR_EGGS: eggs, \n",
    "               CONST_STR_COCOA_POWDER: cocoa_powder, \n",
    "               CONST_STR_BAKING_POWDER: baking_powder}\n",
    "\n",
    "#creates constants for print messages\n",
    "CONST_STR_INGREDIENTS_CONTAIN = \"Ingredients contain\"\n",
    "CONST_STR_INGREDIENTS_DOES_NOT_CONTAIN = \"Ingredients doesn't contain\"\n",
    "CONST_STR_AND = \"and\"\n",
    "CONST_STR_OR = \"or\"\n",
    "CONST_STR_EITHER = \"either\"\n",
    "CONST_STR_BOTH = \"both\"\n",
    "\n",
    "#creates tuple for \"contains\" and \"doesn't contain\" messages\n",
    "printMessage = (lambda: CONST_STR_INGREDIENTS_DOES_NOT_CONTAIN, \n",
    "       lambda: CONST_STR_INGREDIENTS_CONTAIN)\n",
    "print(printMessage[CONST_STR_APPLES in ingredients](), CONST_STR_APPLES) \n",
    "print(printMessage[CONST_STR_BUTTER in ingredients](), CONST_STR_BUTTER) \n",
    "print(printMessage[(CONST_STR_EGGS in ingredients\n",
    "      or CONST_STR_MARGARINE in ingredients)](), CONST_STR_EITHER, CONST_STR_EGGS, CONST_STR_OR, CONST_STR_MARGARINE)\n",
    "print(printMessage[(CONST_STR_EGGS in ingredients\n",
    "      and CONST_STR_MARGARINE in ingredients)](), CONST_STR_BOTH, CONST_STR_EGGS, CONST_STR_AND, CONST_STR_MARGARINE)\n",
    "\n",
    "sep = \"-\"\n",
    "tableSpoon = \"ts\"\n",
    "gram = \"g\"\n",
    "#loops through dictionary and prints the ingridients\n",
    "for key, value in ingredients.items():\n",
    "    #changes the first letter of ingredients to uppercase\n",
    "    key = key[0].upper() + key[1:]\n",
    "    if ((key.casefold() == CONST_STR_COCOA_POWDER.casefold()) \n",
    "        or (key.casefold() == CONST_STR_BAKING_POWDER.casefold())):\n",
    "        print(key, sep, value, tableSpoon)\n",
    "    elif(key.casefold() == CONST_STR_EGGS.casefold()):\n",
    "        print(key, sep, value)\n",
    "    else:\n",
    "        print(key, sep, value, gram)"
   ]
  },
  {
   "cell_type": "code",
   "execution_count": 1,
   "metadata": {},
   "outputs": [
    {
     "name": "stdout",
     "output_type": "stream",
     "text": [
      "result1 = 1003.0 , result2 = 852\n"
     ]
    }
   ],
   "source": [
    "a = 15; b = 8; c = 2; result1 = 0 ; result2 = 0\n",
    "#5a^2−ab+(a%2)-a/5\n",
    "result1 = 5 * a**2 - a * b + (a % 2) - a/5\n",
    "#b^3+3ab-10c \n",
    "result2 = b**3 + 3 * a * b - 10 * c  \n",
    "print(\"result1 =\", result1, \", result2 =\", result2)"
   ]
  },
  {
   "cell_type": "code",
   "execution_count": 24,
   "metadata": {},
   "outputs": [
    {
     "name": "stdout",
     "output_type": "stream",
     "text": [
      "Please enter an integer number: 44\n",
      "44 is even.\n"
     ]
    }
   ],
   "source": [
    "from IPython.display import clear_output\n",
    "\n",
    "inputMessage = \"Please enter an integer number: \"\n",
    "errorMessage = \"Input must be an integer number, please enter again:\"\n",
    "#checks if the input is correct if it is correct prints it else clears the previous output and asks to enter the number again\n",
    "while True:\n",
    "        try:\n",
    "            #clears the previous output\n",
    "            clear_output(wait = True)\n",
    "            userInput = int(input(inputMessage))\n",
    "            #checks if the input is odd\n",
    "            if (userInput & 1 == 1):\n",
    "                print(userInput, \"is odd.\")\n",
    "            else: \n",
    "                print(userInput, \"is even.\")\n",
    "            break;    \n",
    "        except ValueError:\n",
    "            inputMessage = errorMessage\n",
    "            clear_output(wait = True)\n",
    "            continue\n",
    "        \n"
   ]
  },
  {
   "cell_type": "code",
   "execution_count": null,
   "metadata": {},
   "outputs": [],
   "source": []
  }
 ],
 "metadata": {
  "kernelspec": {
   "display_name": "Python 3",
   "language": "python",
   "name": "python3"
  },
  "language_info": {
   "codemirror_mode": {
    "name": "ipython",
    "version": 3
   },
   "file_extension": ".py",
   "mimetype": "text/x-python",
   "name": "python",
   "nbconvert_exporter": "python",
   "pygments_lexer": "ipython3",
   "version": "3.7.4"
  }
 },
 "nbformat": 4,
 "nbformat_minor": 2
}
